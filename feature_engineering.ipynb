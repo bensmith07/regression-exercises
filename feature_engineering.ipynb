{
 "cells": [
  {
   "cell_type": "code",
   "execution_count": 1,
   "id": "06d91052",
   "metadata": {},
   "outputs": [],
   "source": [
    "import pandas as pd\n",
    "import numpy as np\n",
    "import matplotlib.pyplot as plt\n",
    "import seaborn as sns\n",
    "import math\n",
    "\n",
    "import env\n",
    "import wrangle\n",
    "import explore\n",
    "import evaluate\n",
    "\n",
    "import warnings\n",
    "warnings.filterwarnings(\"ignore\")\n",
    "\n",
    "from pydataset import data\n",
    "\n",
    "from sklearn.preprocessing import MinMaxScaler\n",
    "from sklearn.linear_model import LinearRegression\n",
    "from sklearn.feature_selection import SelectKBest, f_regression, RFE"
   ]
  },
  {
   "cell_type": "markdown",
   "id": "a8b8187f",
   "metadata": {},
   "source": [
    "### 1. Tips Data"
   ]
  },
  {
   "cell_type": "code",
   "execution_count": 2,
   "id": "b179e5be",
   "metadata": {},
   "outputs": [],
   "source": [
    "df = data('tips')"
   ]
  },
  {
   "cell_type": "code",
   "execution_count": 3,
   "id": "40d95992",
   "metadata": {},
   "outputs": [],
   "source": [
    "df = df.rename(columns={'size':'party_size'})"
   ]
  },
  {
   "cell_type": "markdown",
   "id": "3b4264d5",
   "metadata": {},
   "source": [
    "#### A. Create a column named price_per_person. This should be the total bill divided by the party size."
   ]
  },
  {
   "cell_type": "code",
   "execution_count": 4,
   "id": "37d9a9dd",
   "metadata": {},
   "outputs": [],
   "source": [
    "df['price_per_person'] = df.total_bill / df.party_size"
   ]
  },
  {
   "cell_type": "code",
   "execution_count": 5,
   "id": "426e91ab",
   "metadata": {},
   "outputs": [
    {
     "data": {
      "text/html": [
       "<div>\n",
       "<style scoped>\n",
       "    .dataframe tbody tr th:only-of-type {\n",
       "        vertical-align: middle;\n",
       "    }\n",
       "\n",
       "    .dataframe tbody tr th {\n",
       "        vertical-align: top;\n",
       "    }\n",
       "\n",
       "    .dataframe thead th {\n",
       "        text-align: right;\n",
       "    }\n",
       "</style>\n",
       "<table border=\"1\" class=\"dataframe\">\n",
       "  <thead>\n",
       "    <tr style=\"text-align: right;\">\n",
       "      <th></th>\n",
       "      <th>total_bill</th>\n",
       "      <th>tip</th>\n",
       "      <th>sex</th>\n",
       "      <th>smoker</th>\n",
       "      <th>day</th>\n",
       "      <th>time</th>\n",
       "      <th>party_size</th>\n",
       "      <th>price_per_person</th>\n",
       "    </tr>\n",
       "  </thead>\n",
       "  <tbody>\n",
       "    <tr>\n",
       "      <th>1</th>\n",
       "      <td>16.99</td>\n",
       "      <td>1.01</td>\n",
       "      <td>Female</td>\n",
       "      <td>No</td>\n",
       "      <td>Sun</td>\n",
       "      <td>Dinner</td>\n",
       "      <td>2</td>\n",
       "      <td>8.495000</td>\n",
       "    </tr>\n",
       "    <tr>\n",
       "      <th>2</th>\n",
       "      <td>10.34</td>\n",
       "      <td>1.66</td>\n",
       "      <td>Male</td>\n",
       "      <td>No</td>\n",
       "      <td>Sun</td>\n",
       "      <td>Dinner</td>\n",
       "      <td>3</td>\n",
       "      <td>3.446667</td>\n",
       "    </tr>\n",
       "    <tr>\n",
       "      <th>3</th>\n",
       "      <td>21.01</td>\n",
       "      <td>3.50</td>\n",
       "      <td>Male</td>\n",
       "      <td>No</td>\n",
       "      <td>Sun</td>\n",
       "      <td>Dinner</td>\n",
       "      <td>3</td>\n",
       "      <td>7.003333</td>\n",
       "    </tr>\n",
       "    <tr>\n",
       "      <th>4</th>\n",
       "      <td>23.68</td>\n",
       "      <td>3.31</td>\n",
       "      <td>Male</td>\n",
       "      <td>No</td>\n",
       "      <td>Sun</td>\n",
       "      <td>Dinner</td>\n",
       "      <td>2</td>\n",
       "      <td>11.840000</td>\n",
       "    </tr>\n",
       "    <tr>\n",
       "      <th>5</th>\n",
       "      <td>24.59</td>\n",
       "      <td>3.61</td>\n",
       "      <td>Female</td>\n",
       "      <td>No</td>\n",
       "      <td>Sun</td>\n",
       "      <td>Dinner</td>\n",
       "      <td>4</td>\n",
       "      <td>6.147500</td>\n",
       "    </tr>\n",
       "  </tbody>\n",
       "</table>\n",
       "</div>"
      ],
      "text/plain": [
       "   total_bill   tip     sex smoker  day    time  party_size  price_per_person\n",
       "1       16.99  1.01  Female     No  Sun  Dinner           2          8.495000\n",
       "2       10.34  1.66    Male     No  Sun  Dinner           3          3.446667\n",
       "3       21.01  3.50    Male     No  Sun  Dinner           3          7.003333\n",
       "4       23.68  3.31    Male     No  Sun  Dinner           2         11.840000\n",
       "5       24.59  3.61  Female     No  Sun  Dinner           4          6.147500"
      ]
     },
     "execution_count": 5,
     "metadata": {},
     "output_type": "execute_result"
    }
   ],
   "source": [
    "df.head()"
   ]
  },
  {
   "cell_type": "markdown",
   "id": "caac1987",
   "metadata": {},
   "source": [
    "#### B. Before using any of the methods discussed in the lesson, which features do you think would be most important for predicting the tip amount? "
   ]
  },
  {
   "cell_type": "markdown",
   "id": "fc46ad12",
   "metadata": {},
   "source": [
    "total_bill, party_size, and price_per_person"
   ]
  },
  {
   "cell_type": "code",
   "execution_count": 6,
   "id": "bb1a7ddd",
   "metadata": {},
   "outputs": [],
   "source": [
    "# identify target\n",
    "target = 'tip'\n",
    "\n",
    "# identify quantitative features\n",
    "quant_features = [col for col in df.columns if (df[col].dtype != 'object') & (col != target)]\n",
    "\n",
    "# identify categorical features\n",
    "categ_features = [col for col in df.columns if (df[col].dtype == 'object') & (col != target)]"
   ]
  },
  {
   "cell_type": "code",
   "execution_count": 7,
   "id": "a5522361",
   "metadata": {},
   "outputs": [],
   "source": [
    "# encode categorical features\n",
    "for feature in categ_features:\n",
    "    dummy_df = pd.get_dummies(df[feature],\n",
    "                              prefix=f'enc_{df[feature].name}',\n",
    "                              drop_first=True)\n",
    "    df = pd.concat([df, dummy_df], axis=1)\n",
    "    \n",
    "# identify encoded features\n",
    "enc_features = [col for col in df.columns if col.startswith('enc_')]"
   ]
  },
  {
   "cell_type": "code",
   "execution_count": 8,
   "id": "e93b4945",
   "metadata": {},
   "outputs": [
    {
     "data": {
      "text/plain": [
       "['total_bill', 'party_size', 'price_per_person']"
      ]
     },
     "execution_count": 8,
     "metadata": {},
     "output_type": "execute_result"
    }
   ],
   "source": [
    "quant_features"
   ]
  },
  {
   "cell_type": "code",
   "execution_count": 9,
   "id": "ece6725d",
   "metadata": {},
   "outputs": [
    {
     "name": "stdout",
     "output_type": "stream",
     "text": [
      "train\t n = 136\n",
      "test\t n = 49\n",
      "validate n = 59\n"
     ]
    }
   ],
   "source": [
    "train, test, validate = wrangle.train_test_validate_split(df)"
   ]
  },
  {
   "cell_type": "code",
   "execution_count": 10,
   "id": "39f52c72",
   "metadata": {},
   "outputs": [],
   "source": [
    "# scale quantitative features\n",
    "\n",
    "# establish empty dataframes for storing scaled dataset\n",
    "train_scaled = pd.DataFrame(index=train.index)\n",
    "validate_scaled = pd.DataFrame(index=validate.index)\n",
    "test_scaled = pd.DataFrame(index=test.index)\n",
    "\n",
    "# screate and fit the scaler\n",
    "scaler = MinMaxScaler().fit(train[quant_features])\n",
    "\n",
    "# adding scaled features to scaled dataframes\n",
    "train_scaled[quant_features] = scaler.transform(train[quant_features])\n",
    "validate_scaled[quant_features] = scaler.transform(validate[quant_features])\n",
    "test_scaled[quant_features] = scaler.transform(test[quant_features])\n",
    "\n",
    "# add 'scaled' prefix to columns\n",
    "for feature in quant_features:\n",
    "    train_scaled = train_scaled.rename(columns={feature: f'scaled_{feature}'})\n",
    "    validate_scaled = validate_scaled.rename(columns={feature: f'scaled_{feature}'})\n",
    "    test_scaled = test_scaled.rename(columns={feature: f'scaled_{feature}'})\n",
    "    \n",
    "# concat scaled features to original train, validate, test df's\n",
    "train = pd.concat([train, train_scaled], axis=1)\n",
    "validate = pd.concat([validate, validate_scaled], axis=1)\n",
    "test = pd.concat([test, test_scaled], axis=1)\n",
    "\n",
    "#identify scaled features\n",
    "scaled_features = [col for col in train.columns if col.startswith('scaled_')]"
   ]
  },
  {
   "cell_type": "code",
   "execution_count": 11,
   "id": "17cb56a1",
   "metadata": {},
   "outputs": [],
   "source": [
    "# divide samples into x and y using only model-appropriate (encoded and scaled) features for x\n",
    "\n",
    "x_train = train[scaled_features + enc_features]\n",
    "y_train = train[target]\n",
    "\n",
    "x_validate = validate[scaled_features + enc_features]\n",
    "y_validate = validate[target]\n",
    "\n",
    "x_test = test[scaled_features + enc_features]\n",
    "y_test = test[target]"
   ]
  },
  {
   "cell_type": "markdown",
   "id": "0e2fbd83",
   "metadata": {},
   "source": [
    "#### C. Use select k best to select the top 2 features for predicting tip amount. What are they?"
   ]
  },
  {
   "cell_type": "code",
   "execution_count": 12,
   "id": "05bc0bce",
   "metadata": {},
   "outputs": [
    {
     "data": {
      "text/plain": [
       "['scaled_total_bill', 'scaled_party_size']"
      ]
     },
     "execution_count": 12,
     "metadata": {},
     "output_type": "execute_result"
    }
   ],
   "source": [
    "selector = SelectKBest(f_regression, k=2)\n",
    "selector.fit(x_train, y_train)\n",
    "feature_mask = selector.get_support()\n",
    "k_best_features = x_train.iloc[:,feature_mask].columns.tolist()\n",
    "k_best_features"
   ]
  },
  {
   "cell_type": "markdown",
   "id": "e4b96d06",
   "metadata": {},
   "source": [
    "#### D. Use recursive feature elimination to select the top 2 features for tip amount. What are they?"
   ]
  },
  {
   "cell_type": "code",
   "execution_count": 13,
   "id": "88d42aef",
   "metadata": {},
   "outputs": [
    {
     "data": {
      "text/plain": [
       "['scaled_total_bill', 'scaled_price_per_person']"
      ]
     },
     "execution_count": 13,
     "metadata": {},
     "output_type": "execute_result"
    }
   ],
   "source": [
    "rfe = RFE(LinearRegression(), n_features_to_select=2)\n",
    "x_rfe = rfe.fit_transform(x_train, y_train)\n",
    "feature_mask = rfe.support_\n",
    "rfe_features = x_train.loc[:,feature_mask].columns.to_list()\n",
    "rfe_features"
   ]
  },
  {
   "cell_type": "markdown",
   "id": "a3526236",
   "metadata": {},
   "source": [
    "#### E. Why do you think select k best and recursive feature elimination might give different answers for the top features? Does this change as you change the number of features your are selecting?"
   ]
  },
  {
   "cell_type": "markdown",
   "id": "0e7f394f",
   "metadata": {},
   "source": [
    "SelectKBest does not take into account the way features interact with each other, and only selects the features that are most independently correlated with the target. In contrast, RFE examines model performance with different combinations of features, which does take into account the features interactions with each other. It is for this reason that these two methods may sometimes produce different results. \n",
    "\n",
    "When parameters are changed to select the 3 best features, both methods produce the same 3 features. (see below)"
   ]
  },
  {
   "cell_type": "code",
   "execution_count": 14,
   "id": "5c25f7e0",
   "metadata": {},
   "outputs": [
    {
     "data": {
      "text/plain": [
       "(['scaled_total_bill', 'scaled_party_size', 'scaled_price_per_person'],\n",
       " ['scaled_total_bill', 'scaled_party_size', 'scaled_price_per_person'])"
      ]
     },
     "execution_count": 14,
     "metadata": {},
     "output_type": "execute_result"
    }
   ],
   "source": [
    "# SelectKBest\n",
    "selector = SelectKBest(f_regression, k=3)\n",
    "selector.fit(x_train, y_train)\n",
    "feature_mask = selector.get_support()\n",
    "k_best_features = x_train.iloc[:,feature_mask].columns.tolist()\n",
    "\n",
    "# RFE\n",
    "rfe = RFE(LinearRegression(), n_features_to_select=3)\n",
    "x_rfe = rfe.fit_transform(x_train, y_train)\n",
    "feature_mask = rfe.support_\n",
    "rfe_features = x_train.loc[:,feature_mask].columns.to_list()\n",
    "\n",
    "k_best_features, rfe_features"
   ]
  },
  {
   "cell_type": "markdown",
   "id": "8782acbc",
   "metadata": {},
   "source": [
    "### 2. Write a function named select_kbest that takes in the predictors (X), the target (y), and the number of features to select (k) and returns the names of the top k selected features based on the SelectKBest class. Test your function with the tips dataset. You should see the same results as when you did the process manually.\n"
   ]
  },
  {
   "cell_type": "code",
   "execution_count": 15,
   "id": "056341fc",
   "metadata": {},
   "outputs": [],
   "source": [
    "from sklearn.feature_selection import SelectKBest, f_regression\n",
    "\n",
    "def select_kbest(x, y, k):\n",
    "    selector = SelectKBest(f_regression, k=k)\n",
    "    selector.fit(x, y)\n",
    "    feature_mask = selector.get_support()\n",
    "    k_best_features = x_train.iloc[:,feature_mask].columns.tolist()\n",
    "    return k_best_features"
   ]
  },
  {
   "cell_type": "code",
   "execution_count": 16,
   "id": "5a12e4eb",
   "metadata": {},
   "outputs": [
    {
     "data": {
      "text/plain": [
       "['scaled_total_bill', 'scaled_party_size']"
      ]
     },
     "execution_count": 16,
     "metadata": {},
     "output_type": "execute_result"
    }
   ],
   "source": [
    "select_kbest(x_train, y_train, 2)"
   ]
  },
  {
   "cell_type": "markdown",
   "id": "ff07b488",
   "metadata": {},
   "source": [
    "### 3. Write a function named rfe that takes in the predictors, the target, and the number of features to select. It should return the top k features based on the RFE class. Test your function with the tips dataset. You should see the same results as when you did the process manually.\n"
   ]
  },
  {
   "cell_type": "code",
   "execution_count": 17,
   "id": "9bd459aa",
   "metadata": {},
   "outputs": [],
   "source": [
    "from sklearn.feature_selection import RFE\n",
    "\n",
    "def rfe(x, y, k):\n",
    "    rfe = RFE(LinearRegression(), n_features_to_select=k)\n",
    "    x_rfe = rfe.fit_transform(x_train, y_train)\n",
    "    feature_mask = rfe.support_\n",
    "    rfe_features = x_train.loc[:,feature_mask].columns.to_list()\n",
    "    return rfe_features"
   ]
  },
  {
   "cell_type": "code",
   "execution_count": 18,
   "id": "e9a017e0",
   "metadata": {},
   "outputs": [
    {
     "data": {
      "text/plain": [
       "['scaled_total_bill', 'scaled_price_per_person']"
      ]
     },
     "execution_count": 18,
     "metadata": {},
     "output_type": "execute_result"
    }
   ],
   "source": [
    "rfe(x_train, y_train, 2)"
   ]
  },
  {
   "cell_type": "markdown",
   "id": "bf3d40cc",
   "metadata": {},
   "source": [
    "### 4. Load the swiss dataset and use all the other features to predict Fertility. Find the top 3 features using both select k best and recursive feature elimination (use the functions you just built to help you out).\n"
   ]
  },
  {
   "cell_type": "code",
   "execution_count": 19,
   "id": "526686a4",
   "metadata": {},
   "outputs": [],
   "source": [
    "df = data('swiss')"
   ]
  },
  {
   "cell_type": "code",
   "execution_count": 20,
   "id": "0f2a818d",
   "metadata": {},
   "outputs": [],
   "source": [
    "for col in df.columns:\n",
    "    df = df.rename(columns={col: col.lower().replace('.', '_')})"
   ]
  },
  {
   "cell_type": "code",
   "execution_count": 21,
   "id": "45784799",
   "metadata": {},
   "outputs": [
    {
     "data": {
      "text/html": [
       "<div>\n",
       "<style scoped>\n",
       "    .dataframe tbody tr th:only-of-type {\n",
       "        vertical-align: middle;\n",
       "    }\n",
       "\n",
       "    .dataframe tbody tr th {\n",
       "        vertical-align: top;\n",
       "    }\n",
       "\n",
       "    .dataframe thead th {\n",
       "        text-align: right;\n",
       "    }\n",
       "</style>\n",
       "<table border=\"1\" class=\"dataframe\">\n",
       "  <thead>\n",
       "    <tr style=\"text-align: right;\">\n",
       "      <th></th>\n",
       "      <th>fertility</th>\n",
       "      <th>agriculture</th>\n",
       "      <th>examination</th>\n",
       "      <th>education</th>\n",
       "      <th>catholic</th>\n",
       "      <th>infant_mortality</th>\n",
       "    </tr>\n",
       "  </thead>\n",
       "  <tbody>\n",
       "    <tr>\n",
       "      <th>Courtelary</th>\n",
       "      <td>80.2</td>\n",
       "      <td>17.0</td>\n",
       "      <td>15</td>\n",
       "      <td>12</td>\n",
       "      <td>9.96</td>\n",
       "      <td>22.2</td>\n",
       "    </tr>\n",
       "    <tr>\n",
       "      <th>Delemont</th>\n",
       "      <td>83.1</td>\n",
       "      <td>45.1</td>\n",
       "      <td>6</td>\n",
       "      <td>9</td>\n",
       "      <td>84.84</td>\n",
       "      <td>22.2</td>\n",
       "    </tr>\n",
       "    <tr>\n",
       "      <th>Franches-Mnt</th>\n",
       "      <td>92.5</td>\n",
       "      <td>39.7</td>\n",
       "      <td>5</td>\n",
       "      <td>5</td>\n",
       "      <td>93.40</td>\n",
       "      <td>20.2</td>\n",
       "    </tr>\n",
       "    <tr>\n",
       "      <th>Moutier</th>\n",
       "      <td>85.8</td>\n",
       "      <td>36.5</td>\n",
       "      <td>12</td>\n",
       "      <td>7</td>\n",
       "      <td>33.77</td>\n",
       "      <td>20.3</td>\n",
       "    </tr>\n",
       "    <tr>\n",
       "      <th>Neuveville</th>\n",
       "      <td>76.9</td>\n",
       "      <td>43.5</td>\n",
       "      <td>17</td>\n",
       "      <td>15</td>\n",
       "      <td>5.16</td>\n",
       "      <td>20.6</td>\n",
       "    </tr>\n",
       "  </tbody>\n",
       "</table>\n",
       "</div>"
      ],
      "text/plain": [
       "              fertility  agriculture  examination  education  catholic  \\\n",
       "Courtelary         80.2         17.0           15         12      9.96   \n",
       "Delemont           83.1         45.1            6          9     84.84   \n",
       "Franches-Mnt       92.5         39.7            5          5     93.40   \n",
       "Moutier            85.8         36.5           12          7     33.77   \n",
       "Neuveville         76.9         43.5           17         15      5.16   \n",
       "\n",
       "              infant_mortality  \n",
       "Courtelary                22.2  \n",
       "Delemont                  22.2  \n",
       "Franches-Mnt              20.2  \n",
       "Moutier                   20.3  \n",
       "Neuveville                20.6  "
      ]
     },
     "execution_count": 21,
     "metadata": {},
     "output_type": "execute_result"
    }
   ],
   "source": [
    "df.head()"
   ]
  },
  {
   "cell_type": "code",
   "execution_count": 22,
   "id": "06bc5b7d",
   "metadata": {},
   "outputs": [],
   "source": [
    "target = 'fertility'\n",
    "quant_features = [col for col in df.columns if (df[col].dtype != 'object') & (col != 'target')]"
   ]
  },
  {
   "cell_type": "code",
   "execution_count": 23,
   "id": "c427af09",
   "metadata": {},
   "outputs": [
    {
     "name": "stdout",
     "output_type": "stream",
     "text": [
      "train\t n = 25\n",
      "test\t n = 10\n",
      "validate n = 12\n"
     ]
    }
   ],
   "source": [
    "train, test, validate = wrangle.train_test_validate_split(df)"
   ]
  },
  {
   "cell_type": "code",
   "execution_count": 24,
   "id": "1c63c979",
   "metadata": {},
   "outputs": [],
   "source": [
    "# scale quantitative features\n",
    "\n",
    "# establish empty dataframes for storing scaled dataset\n",
    "train_scaled = pd.DataFrame(index=train.index)\n",
    "validate_scaled = pd.DataFrame(index=validate.index)\n",
    "test_scaled = pd.DataFrame(index=test.index)\n",
    "\n",
    "# screate and fit the scaler\n",
    "scaler = MinMaxScaler().fit(train[quant_features])\n",
    "\n",
    "# adding scaled features to scaled dataframes\n",
    "train_scaled[quant_features] = scaler.transform(train[quant_features])\n",
    "validate_scaled[quant_features] = scaler.transform(validate[quant_features])\n",
    "test_scaled[quant_features] = scaler.transform(test[quant_features])\n",
    "\n",
    "# add 'scaled' prefix to columns\n",
    "for feature in quant_features:\n",
    "    train_scaled = train_scaled.rename(columns={feature: f'scaled_{feature}'})\n",
    "    validate_scaled = validate_scaled.rename(columns={feature: f'scaled_{feature}'})\n",
    "    test_scaled = test_scaled.rename(columns={feature: f'scaled_{feature}'})\n",
    "    \n",
    "# concat scaled features to original train, validate, test df's\n",
    "train = pd.concat([train, train_scaled], axis=1)\n",
    "validate = pd.concat([validate, validate_scaled], axis=1)\n",
    "test = pd.concat([test, test_scaled], axis=1)\n",
    "\n",
    "#identify scaled features\n",
    "scaled_features = [col for col in train.columns if col.startswith('scaled_')]"
   ]
  },
  {
   "cell_type": "code",
   "execution_count": 25,
   "id": "664e81b3",
   "metadata": {},
   "outputs": [],
   "source": [
    "x_train = train[scaled_features]\n",
    "y_train = train[target]\n",
    "\n",
    "x_validate = validate[scaled_features]\n",
    "y_validate = validate[target]\n",
    "\n",
    "x_test = test[scaled_features]\n",
    "y_test = test[target]"
   ]
  },
  {
   "cell_type": "code",
   "execution_count": 26,
   "id": "0e554097",
   "metadata": {},
   "outputs": [
    {
     "data": {
      "text/plain": [
       "['scaled_examination', 'scaled_education', 'scaled_infant_mortality']"
      ]
     },
     "execution_count": 26,
     "metadata": {},
     "output_type": "execute_result"
    }
   ],
   "source": [
    "select_kbest(x_train, y_train, 3)"
   ]
  },
  {
   "cell_type": "code",
   "execution_count": 27,
   "id": "d5adf3e1",
   "metadata": {},
   "outputs": [
    {
     "data": {
      "text/plain": [
       "['scaled_fertility', 'scaled_catholic', 'scaled_infant_mortality']"
      ]
     },
     "execution_count": 27,
     "metadata": {},
     "output_type": "execute_result"
    }
   ],
   "source": [
    "rfe(x_train, y_train, 3)"
   ]
  }
 ],
 "metadata": {
  "kernelspec": {
   "display_name": "Python 3 (ipykernel)",
   "language": "python",
   "name": "python3"
  },
  "language_info": {
   "codemirror_mode": {
    "name": "ipython",
    "version": 3
   },
   "file_extension": ".py",
   "mimetype": "text/x-python",
   "name": "python",
   "nbconvert_exporter": "python",
   "pygments_lexer": "ipython3",
   "version": "3.9.7"
  }
 },
 "nbformat": 4,
 "nbformat_minor": 5
}
