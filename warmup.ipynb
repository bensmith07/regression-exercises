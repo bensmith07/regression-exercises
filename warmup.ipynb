{
 "cells": [
  {
   "cell_type": "markdown",
   "metadata": {},
   "source": [
    "# Dataframe Manipulation Warmup"
   ]
  },
  {
   "cell_type": "code",
   "execution_count": 1,
   "metadata": {},
   "outputs": [],
   "source": [
    "import numpy as np\n",
    "import pandas as pd\n",
    "\n",
    "np.random.seed(406)\n",
    "\n",
    "n = 5000\n",
    "df = pd.DataFrame({\n",
    "    'favorite_animal': np.random.choice(['cat', 'dog', 'frog', 'lemur', 'panda'], n),\n",
    "    'favorite_vegetable': np.random.choice(['brussel sprouts', 'potato', 'squash'], n),\n",
    "    'favorite_fruit': np.random.choice(['banana', 'apple', 'blueberries'], n),\n",
    "    'wears_glasses': np.random.choice(['yes', 'no'], n),\n",
    "    'netflix_consumption': np.random.normal(10, 2, n),\n",
    "    'open_browser_tabs': np.random.randint(2, 90, n),\n",
    "})"
   ]
  },
  {
   "cell_type": "code",
   "execution_count": 21,
   "metadata": {},
   "outputs": [
    {
     "data": {
      "text/html": [
       "<div>\n",
       "<style scoped>\n",
       "    .dataframe tbody tr th:only-of-type {\n",
       "        vertical-align: middle;\n",
       "    }\n",
       "\n",
       "    .dataframe tbody tr th {\n",
       "        vertical-align: top;\n",
       "    }\n",
       "\n",
       "    .dataframe thead th {\n",
       "        text-align: right;\n",
       "    }\n",
       "</style>\n",
       "<table border=\"1\" class=\"dataframe\">\n",
       "  <thead>\n",
       "    <tr style=\"text-align: right;\">\n",
       "      <th></th>\n",
       "      <th>favorite_animal</th>\n",
       "      <th>favorite_vegetable</th>\n",
       "      <th>favorite_fruit</th>\n",
       "      <th>wears_glasses</th>\n",
       "      <th>netflix_consumption</th>\n",
       "      <th>open_browser_tabs</th>\n",
       "      <th>wears_glasses2</th>\n",
       "    </tr>\n",
       "  </thead>\n",
       "  <tbody>\n",
       "    <tr>\n",
       "      <th>0</th>\n",
       "      <td>lemur</td>\n",
       "      <td>potato</td>\n",
       "      <td>apple</td>\n",
       "      <td>yes</td>\n",
       "      <td>8.313351</td>\n",
       "      <td>44</td>\n",
       "      <td>True</td>\n",
       "    </tr>\n",
       "    <tr>\n",
       "      <th>1</th>\n",
       "      <td>panda</td>\n",
       "      <td>potato</td>\n",
       "      <td>apple</td>\n",
       "      <td>yes</td>\n",
       "      <td>11.801073</td>\n",
       "      <td>10</td>\n",
       "      <td>True</td>\n",
       "    </tr>\n",
       "    <tr>\n",
       "      <th>2</th>\n",
       "      <td>cat</td>\n",
       "      <td>squash</td>\n",
       "      <td>blueberries</td>\n",
       "      <td>yes</td>\n",
       "      <td>10.105141</td>\n",
       "      <td>35</td>\n",
       "      <td>True</td>\n",
       "    </tr>\n",
       "  </tbody>\n",
       "</table>\n",
       "</div>"
      ],
      "text/plain": [
       "  favorite_animal favorite_vegetable favorite_fruit wears_glasses  \\\n",
       "0           lemur             potato          apple           yes   \n",
       "1           panda             potato          apple           yes   \n",
       "2             cat             squash    blueberries           yes   \n",
       "\n",
       "   netflix_consumption  open_browser_tabs  wears_glasses2  \n",
       "0             8.313351                 44            True  \n",
       "1            11.801073                 10            True  \n",
       "2            10.105141                 35            True  "
      ]
     },
     "execution_count": 21,
     "metadata": {},
     "output_type": "execute_result"
    }
   ],
   "source": [
    "df.head(3)"
   ]
  },
  {
   "cell_type": "markdown",
   "metadata": {},
   "source": [
    "1. What is the highest amount of netflix consumption? `17.535`\n"
   ]
  },
  {
   "cell_type": "code",
   "execution_count": 3,
   "metadata": {},
   "outputs": [
    {
     "data": {
      "text/plain": [
       "17.534818515438925"
      ]
     },
     "execution_count": 3,
     "metadata": {},
     "output_type": "execute_result"
    }
   ],
   "source": [
    "df.netflix_consumption.max()"
   ]
  },
  {
   "cell_type": "markdown",
   "metadata": {},
   "source": [
    "2. How many people wear glasses? What percentage of people is this? `2555`, `.511`\n"
   ]
  },
  {
   "cell_type": "code",
   "execution_count": 25,
   "metadata": {},
   "outputs": [
    {
     "data": {
      "text/plain": [
       "(2555, 0.511)"
      ]
     },
     "execution_count": 25,
     "metadata": {},
     "output_type": "execute_result"
    }
   ],
   "source": [
    "(df.wears_glasses == 'yes').sum(), (df.wears_glasses == 'yes').mean(), "
   ]
  },
  {
   "cell_type": "markdown",
   "metadata": {},
   "source": [
    "3. How many people's favorite animal is a dog? `1002`\n"
   ]
  },
  {
   "cell_type": "code",
   "execution_count": 10,
   "metadata": {},
   "outputs": [
    {
     "data": {
      "text/plain": [
       "1002"
      ]
     },
     "execution_count": 10,
     "metadata": {},
     "output_type": "execute_result"
    }
   ],
   "source": [
    "(df.favorite_animal == 'dog').sum()"
   ]
  },
  {
   "cell_type": "markdown",
   "metadata": {},
   "source": [
    "4. What is the most common favorite animal? `lemur`\n"
   ]
  },
  {
   "cell_type": "code",
   "execution_count": 12,
   "metadata": {},
   "outputs": [
    {
     "data": {
      "text/plain": [
       "'lemur'"
      ]
     },
     "execution_count": 12,
     "metadata": {},
     "output_type": "execute_result"
    }
   ],
   "source": [
    "df.favorite_animal.mode()[0]"
   ]
  },
  {
   "cell_type": "markdown",
   "metadata": {},
   "source": [
    "5. What is the average netflix consumption for people that prefer brussel sprouts? `10.008`\n"
   ]
  },
  {
   "cell_type": "code",
   "execution_count": 16,
   "metadata": {},
   "outputs": [
    {
     "data": {
      "text/plain": [
       "10.00847154798366"
      ]
     },
     "execution_count": 16,
     "metadata": {},
     "output_type": "execute_result"
    }
   ],
   "source": [
    "df[df.favorite_vegetable == 'brussel sprouts'].netflix_consumption.mean()"
   ]
  },
  {
   "cell_type": "markdown",
   "metadata": {},
   "source": [
    "6. What is the most common favorite fruit for people who wear glasses and have more than 40 open browser tabs? `blueberries`"
   ]
  },
  {
   "cell_type": "code",
   "execution_count": 26,
   "metadata": {},
   "outputs": [
    {
     "data": {
      "text/plain": [
       "'blueberries'"
      ]
     },
     "execution_count": 26,
     "metadata": {},
     "output_type": "execute_result"
    }
   ],
   "source": [
    "df[(df.wears_glasses == 'yes') & (df.open_browser_tabs > 40)].favorite_fruit.mode()[0]"
   ]
  }
 ],
 "metadata": {
  "kernelspec": {
   "display_name": "Python 3 (ipykernel)",
   "language": "python",
   "name": "python3"
  },
  "language_info": {
   "codemirror_mode": {
    "name": "ipython",
    "version": 3
   },
   "file_extension": ".py",
   "mimetype": "text/x-python",
   "name": "python",
   "nbconvert_exporter": "python",
   "pygments_lexer": "ipython3",
   "version": "3.9.7"
  }
 },
 "nbformat": 4,
 "nbformat_minor": 4
}
