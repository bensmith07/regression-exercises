{
 "cells": [
  {
   "cell_type": "code",
   "execution_count": 1,
   "id": "ef986887",
   "metadata": {},
   "outputs": [],
   "source": [
    "import pandas as pd\n",
    "import numpy as np\n",
    "import matplotlib.pyplot as plt\n",
    "import seaborn as sns\n",
    "from math import sqrt\n",
    "\n",
    "import env\n",
    "import wrangle\n",
    "import explore\n",
    "import evaluate\n",
    "\n",
    "import warnings\n",
    "warnings.filterwarnings(\"ignore\")\n",
    "\n",
    "from pydataset import data\n",
    "\n",
    "import sklearn as sk\n",
    "from sklearn.preprocessing import MinMaxScaler\n",
    "from sklearn.linear_model import LinearRegression\n",
    "from sklearn.feature_selection import SelectKBest, f_regression, RFE"
   ]
  },
  {
   "cell_type": "markdown",
   "id": "c2876b85",
   "metadata": {},
   "source": [
    "#### 1. Select a dataset with a continuous target variable.\n"
   ]
  },
  {
   "cell_type": "code",
   "execution_count": 2,
   "id": "f7e3ded9",
   "metadata": {},
   "outputs": [
    {
     "name": "stdout",
     "output_type": "stream",
     "text": [
      "Reading from local CSV...\n"
     ]
    }
   ],
   "source": [
    "df = wrangle.wrangle_zillow()"
   ]
  },
  {
   "cell_type": "code",
   "execution_count": 3,
   "id": "98a83c23",
   "metadata": {},
   "outputs": [
    {
     "data": {
      "text/html": [
       "<div>\n",
       "<style scoped>\n",
       "    .dataframe tbody tr th:only-of-type {\n",
       "        vertical-align: middle;\n",
       "    }\n",
       "\n",
       "    .dataframe tbody tr th {\n",
       "        vertical-align: top;\n",
       "    }\n",
       "\n",
       "    .dataframe thead th {\n",
       "        text-align: right;\n",
       "    }\n",
       "</style>\n",
       "<table border=\"1\" class=\"dataframe\">\n",
       "  <thead>\n",
       "    <tr style=\"text-align: right;\">\n",
       "      <th></th>\n",
       "      <th>bedrooms</th>\n",
       "      <th>bathrooms</th>\n",
       "      <th>sqft</th>\n",
       "      <th>tax_value</th>\n",
       "      <th>tax_amount</th>\n",
       "      <th>fips</th>\n",
       "      <th>age</th>\n",
       "    </tr>\n",
       "  </thead>\n",
       "  <tbody>\n",
       "    <tr>\n",
       "      <th>0</th>\n",
       "      <td>4.0</td>\n",
       "      <td>3.0</td>\n",
       "      <td>2090.0</td>\n",
       "      <td>615000.0</td>\n",
       "      <td>8625.75</td>\n",
       "      <td>06037</td>\n",
       "      <td>44</td>\n",
       "    </tr>\n",
       "    <tr>\n",
       "      <th>1</th>\n",
       "      <td>5.0</td>\n",
       "      <td>3.0</td>\n",
       "      <td>2479.0</td>\n",
       "      <td>531642.0</td>\n",
       "      <td>6722.67</td>\n",
       "      <td>06037</td>\n",
       "      <td>44</td>\n",
       "    </tr>\n",
       "    <tr>\n",
       "      <th>2</th>\n",
       "      <td>4.0</td>\n",
       "      <td>2.0</td>\n",
       "      <td>2057.0</td>\n",
       "      <td>328148.0</td>\n",
       "      <td>4160.63</td>\n",
       "      <td>06037</td>\n",
       "      <td>44</td>\n",
       "    </tr>\n",
       "    <tr>\n",
       "      <th>3</th>\n",
       "      <td>4.0</td>\n",
       "      <td>3.0</td>\n",
       "      <td>2423.0</td>\n",
       "      <td>297377.0</td>\n",
       "      <td>3883.47</td>\n",
       "      <td>06037</td>\n",
       "      <td>39</td>\n",
       "    </tr>\n",
       "    <tr>\n",
       "      <th>4</th>\n",
       "      <td>4.0</td>\n",
       "      <td>3.0</td>\n",
       "      <td>2226.0</td>\n",
       "      <td>297001.0</td>\n",
       "      <td>3884.27</td>\n",
       "      <td>06037</td>\n",
       "      <td>39</td>\n",
       "    </tr>\n",
       "  </tbody>\n",
       "</table>\n",
       "</div>"
      ],
      "text/plain": [
       "   bedrooms  bathrooms    sqft  tax_value  tax_amount   fips  age\n",
       "0       4.0        3.0  2090.0   615000.0     8625.75  06037   44\n",
       "1       5.0        3.0  2479.0   531642.0     6722.67  06037   44\n",
       "2       4.0        2.0  2057.0   328148.0     4160.63  06037   44\n",
       "3       4.0        3.0  2423.0   297377.0     3883.47  06037   39\n",
       "4       4.0        3.0  2226.0   297001.0     3884.27  06037   39"
      ]
     },
     "execution_count": 3,
     "metadata": {},
     "output_type": "execute_result"
    }
   ],
   "source": [
    "df.head()"
   ]
  },
  {
   "cell_type": "markdown",
   "id": "765992e2",
   "metadata": {},
   "source": [
    "#### 2. Be sure your data is prepared (no missing values, numeric datatypes) and split into samples.\n"
   ]
  },
  {
   "cell_type": "code",
   "execution_count": 4,
   "id": "5841fecd",
   "metadata": {},
   "outputs": [],
   "source": [
    "# identify target\n",
    "target = 'tax_value'\n",
    "\n",
    "# identify quantitative features\n",
    "quant_features = ['bedrooms', 'bathrooms', 'sqft', 'age', 'tax_amount']\n",
    "\n",
    "# identify categorical features\n",
    "categ_features = ['fips']"
   ]
  },
  {
   "cell_type": "code",
   "execution_count": 5,
   "id": "ae40f16e",
   "metadata": {},
   "outputs": [],
   "source": [
    "# encode categorical features\n",
    "for feature in categ_features:\n",
    "    dummy_df = pd.get_dummies(df[feature],\n",
    "                              prefix=f'enc_{df[feature].name}',\n",
    "                              drop_first=True)\n",
    "    df = pd.concat([df, dummy_df], axis=1)\n",
    "    \n",
    "# identify encoded features\n",
    "enc_features = [col for col in df.columns if col.startswith('enc_')]"
   ]
  },
  {
   "cell_type": "code",
   "execution_count": 6,
   "id": "36a17f89",
   "metadata": {},
   "outputs": [
    {
     "name": "stdout",
     "output_type": "stream",
     "text": [
      "train\t n = 1004320\n",
      "test\t n = 358686\n",
      "validate n = 430424\n"
     ]
    }
   ],
   "source": [
    "train, test, validate = wrangle.train_test_validate_split(df)"
   ]
  },
  {
   "cell_type": "code",
   "execution_count": 7,
   "id": "a69f2e59",
   "metadata": {},
   "outputs": [],
   "source": [
    "# scale quantitative features\n",
    "\n",
    "# establish empty dataframes for storing scaled dataset\n",
    "train_scaled = pd.DataFrame(index=train.index)\n",
    "validate_scaled = pd.DataFrame(index=validate.index)\n",
    "test_scaled = pd.DataFrame(index=test.index)\n",
    "\n",
    "# screate and fit the scaler\n",
    "scaler = MinMaxScaler().fit(train[quant_features])\n",
    "\n",
    "# adding scaled features to scaled dataframes\n",
    "train_scaled[quant_features] = scaler.transform(train[quant_features])\n",
    "validate_scaled[quant_features] = scaler.transform(validate[quant_features])\n",
    "test_scaled[quant_features] = scaler.transform(test[quant_features])\n",
    "\n",
    "# add 'scaled' prefix to columns\n",
    "for feature in quant_features:\n",
    "    train_scaled = train_scaled.rename(columns={feature: f'scaled_{feature}'})\n",
    "    validate_scaled = validate_scaled.rename(columns={feature: f'scaled_{feature}'})\n",
    "    test_scaled = test_scaled.rename(columns={feature: f'scaled_{feature}'})\n",
    "    \n",
    "# concat scaled features to original train, validate, test df's\n",
    "train = pd.concat([train, train_scaled], axis=1)\n",
    "validate = pd.concat([validate, validate_scaled], axis=1)\n",
    "test = pd.concat([test, test_scaled], axis=1)\n",
    "\n",
    "#identify scaled features\n",
    "scaled_features = [col for col in train.columns if col.startswith('scaled_')]"
   ]
  },
  {
   "cell_type": "code",
   "execution_count": 8,
   "id": "b17d89a4",
   "metadata": {},
   "outputs": [],
   "source": [
    "x_train = train[scaled_features + enc_features]\n",
    "y_train = train[target]\n",
    "\n",
    "x_validate = validate[scaled_features + enc_features]\n",
    "y_validate = validate[target]\n",
    "\n",
    "x_test = test[scaled_features + enc_features]\n",
    "y_test = test[target]"
   ]
  },
  {
   "cell_type": "markdown",
   "id": "505bc316",
   "metadata": {},
   "source": [
    "#### 3. Work through all of the steps outlined in the lesson, from setting the baseline to selected a model and evaluating the final model on your test data.\n"
   ]
  },
  {
   "cell_type": "code",
   "execution_count": 9,
   "id": "4cdcb32f",
   "metadata": {},
   "outputs": [],
   "source": [
    "def determine_regression_baseline(train, target, return_results_df=False):\n",
    "    \n",
    "    # create empty dataframe for storing prediction results\n",
    "    train_results = pd.DataFrame(index=train.index)\n",
    "    # assign actual values for the target variable\n",
    "    train_results['actual'] = train[target]\n",
    "    # assign a baseline using mean\n",
    "    train_results['baseline_mean'] = train[target].mean()\n",
    "    # assign a baseline using median\n",
    "    train_results['baseline_median']= train[target].median()\n",
    "    \n",
    "    # get RMSE values for each potential baseline\n",
    "    RMSE_baseline_mean = sqrt(sk.metrics.mean_squared_error(train_results.actual, train_results.baseline_mean))\n",
    "    RMSE_baseline_median = sqrt(sk.metrics.mean_squared_error(train_results.actual, train_results.baseline_median))\n",
    "    \n",
    "    # compare the two RMSE values; drop the lowest performer and assign the highest performer to baseline variable\n",
    "    if RMSE_baseline_median < RMSE_baseline_mean:\n",
    "        train_results = train_results.drop(columns='baseline_mean')\n",
    "        train_results['RMSE_baseline'] = RMSE_baseline_median\n",
    "        baseline = 'median'\n",
    "    else:\n",
    "        train_results = train_results.drop(columns='baseline_median')\n",
    "        train_results['RMSE_baseline'] = RMSE_baseline_mean\n",
    "        baseline = 'mean'\n",
    "    \n",
    "    # return\n",
    "    if return_results_df:\n",
    "        return train_results, baseline\n",
    "    else:\n",
    "        return baseline"
   ]
  },
  {
   "cell_type": "code",
   "execution_count": 10,
   "id": "8c59fae1",
   "metadata": {},
   "outputs": [],
   "source": [
    "train_results, baseline = determine_regression_baseline(train, target, return_results_df=True)"
   ]
  },
  {
   "cell_type": "code",
   "execution_count": 11,
   "id": "31704e18",
   "metadata": {},
   "outputs": [
    {
     "data": {
      "text/plain": [
       "'mean'"
      ]
     },
     "execution_count": 11,
     "metadata": {},
     "output_type": "execute_result"
    }
   ],
   "source": [
    "baseline"
   ]
  },
  {
   "cell_type": "code",
   "execution_count": 12,
   "id": "fdab34c4",
   "metadata": {},
   "outputs": [
    {
     "data": {
      "text/html": [
       "<div>\n",
       "<style scoped>\n",
       "    .dataframe tbody tr th:only-of-type {\n",
       "        vertical-align: middle;\n",
       "    }\n",
       "\n",
       "    .dataframe tbody tr th {\n",
       "        vertical-align: top;\n",
       "    }\n",
       "\n",
       "    .dataframe thead th {\n",
       "        text-align: right;\n",
       "    }\n",
       "</style>\n",
       "<table border=\"1\" class=\"dataframe\">\n",
       "  <thead>\n",
       "    <tr style=\"text-align: right;\">\n",
       "      <th></th>\n",
       "      <th>actual</th>\n",
       "      <th>baseline_mean</th>\n",
       "      <th>RMSE_baseline</th>\n",
       "    </tr>\n",
       "  </thead>\n",
       "  <tbody>\n",
       "    <tr>\n",
       "      <th>2098827</th>\n",
       "      <td>423291.0</td>\n",
       "      <td>312127.527665</td>\n",
       "      <td>187175.261103</td>\n",
       "    </tr>\n",
       "    <tr>\n",
       "      <th>1795578</th>\n",
       "      <td>60274.0</td>\n",
       "      <td>312127.527665</td>\n",
       "      <td>187175.261103</td>\n",
       "    </tr>\n",
       "    <tr>\n",
       "      <th>427142</th>\n",
       "      <td>172623.0</td>\n",
       "      <td>312127.527665</td>\n",
       "      <td>187175.261103</td>\n",
       "    </tr>\n",
       "  </tbody>\n",
       "</table>\n",
       "</div>"
      ],
      "text/plain": [
       "           actual  baseline_mean  RMSE_baseline\n",
       "2098827  423291.0  312127.527665  187175.261103\n",
       "1795578   60274.0  312127.527665  187175.261103\n",
       "427142   172623.0  312127.527665  187175.261103"
      ]
     },
     "execution_count": 12,
     "metadata": {},
     "output_type": "execute_result"
    }
   ],
   "source": [
    "train_results.head(3)"
   ]
  },
  {
   "cell_type": "code",
   "execution_count": 13,
   "id": "c6728e57",
   "metadata": {},
   "outputs": [
    {
     "data": {
      "image/png": "[encoded data removed]",
      "text/plain": [
       "<Figure size 432x288 with 1 Axes>"
      ]
     },
     "metadata": {
      "needs_background": "light"
     },
     "output_type": "display_data"
    }
   ],
   "source": [
    "plt.hist(train[target])\n",
    "plt.show()"
   ]
  },
  {
   "cell_type": "code",
   "execution_count": null,
   "id": "ba3e1442",
   "metadata": {},
   "outputs": [],
   "source": []
  }
 ],
 "metadata": {
  "kernelspec": {
   "display_name": "Python 3 (ipykernel)",
   "language": "python",
   "name": "python3"
  },
  "language_info": {
   "codemirror_mode": {
    "name": "ipython",
    "version": 3
   },
   "file_extension": ".py",
   "mimetype": "text/x-python",
   "name": "python",
   "nbconvert_exporter": "python",
   "pygments_lexer": "ipython3",
   "version": "3.9.7"
  }
 },
 "nbformat": 4,
 "nbformat_minor": 5
}
