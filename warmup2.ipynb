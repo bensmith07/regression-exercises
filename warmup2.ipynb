{
 "cells": [
  {
   "cell_type": "code",
   "execution_count": 76,
   "id": "4f95fefb-13eb-4017-a1ba-ce979d1e0da0",
   "metadata": {},
   "outputs": [],
   "source": [
    "import pandas as pd\n",
    "import seaborn as sns\n",
    "import matplotlib.pyplot as plt\n",
    "\n",
    "df = pd.read_csv('https://raw.githubusercontent.com/zgulde/tidytuesday/master/data/2022/2022-02-01/breed_traits.csv')"
   ]
  },
  {
   "cell_type": "markdown",
   "id": "5daad97e-3690-4d06-a295-2de4eb3a6e28",
   "metadata": {},
   "source": [
    "This dataset contains information on different dog breeds. Answer the following questions:\n",
    "\n",
    "- How many breeds have an energy level of 5? `35`\n",
    "- How many different coat types are there? `10`\n",
    "- What is the average drooling level of breeds with a long coat length? `1.483`\n",
    "- What is the barking level of Anatolian Shepherd Dogs? `3`\n",
    "- How many breeds have a smooth coat type, a short coat length, and a playfulness level of 3? `27`\n",
    "- What percentage of breeds fall into each value of adaptability level? Make a visualization like the one below showing this"
   ]
  },
  {
   "attachments": {
    "805baeb8-a81a-4f98-8aa5-7769c38791fb.png": {
     "image/png": "[encoded data removed]"
    }
   },
   "cell_type": "markdown",
   "id": "49a426a3-aba0-44de-8dff-0c05e36e6df9",
   "metadata": {},
   "source": [
    "![image.png](attachment:805baeb8-a81a-4f98-8aa5-7769c38791fb.png)"
   ]
  },
  {
   "cell_type": "code",
   "execution_count": 3,
   "id": "d95ba912",
   "metadata": {},
   "outputs": [
    {
     "data": {
      "text/html": [
       "<div>\n",
       "<style scoped>\n",
       "    .dataframe tbody tr th:only-of-type {\n",
       "        vertical-align: middle;\n",
       "    }\n",
       "\n",
       "    .dataframe tbody tr th {\n",
       "        vertical-align: top;\n",
       "    }\n",
       "\n",
       "    .dataframe thead th {\n",
       "        text-align: right;\n",
       "    }\n",
       "</style>\n",
       "<table border=\"1\" class=\"dataframe\">\n",
       "  <thead>\n",
       "    <tr style=\"text-align: right;\">\n",
       "      <th></th>\n",
       "      <th>Breed</th>\n",
       "      <th>Affectionate With Family</th>\n",
       "      <th>Good With Young Children</th>\n",
       "      <th>Good With Other Dogs</th>\n",
       "      <th>Shedding Level</th>\n",
       "      <th>Coat Grooming Frequency</th>\n",
       "      <th>Drooling Level</th>\n",
       "      <th>Coat Type</th>\n",
       "      <th>Coat Length</th>\n",
       "      <th>Openness To Strangers</th>\n",
       "      <th>Playfulness Level</th>\n",
       "      <th>Watchdog/Protective Nature</th>\n",
       "      <th>Adaptability Level</th>\n",
       "      <th>Trainability Level</th>\n",
       "      <th>Energy Level</th>\n",
       "      <th>Barking Level</th>\n",
       "      <th>Mental Stimulation Needs</th>\n",
       "    </tr>\n",
       "  </thead>\n",
       "  <tbody>\n",
       "    <tr>\n",
       "      <th>0</th>\n",
       "      <td>Retrievers (Labrador)</td>\n",
       "      <td>5</td>\n",
       "      <td>5</td>\n",
       "      <td>5</td>\n",
       "      <td>4</td>\n",
       "      <td>2</td>\n",
       "      <td>2</td>\n",
       "      <td>Double</td>\n",
       "      <td>Short</td>\n",
       "      <td>5</td>\n",
       "      <td>5</td>\n",
       "      <td>3</td>\n",
       "      <td>5</td>\n",
       "      <td>5</td>\n",
       "      <td>5</td>\n",
       "      <td>3</td>\n",
       "      <td>4</td>\n",
       "    </tr>\n",
       "    <tr>\n",
       "      <th>1</th>\n",
       "      <td>French Bulldogs</td>\n",
       "      <td>5</td>\n",
       "      <td>5</td>\n",
       "      <td>4</td>\n",
       "      <td>3</td>\n",
       "      <td>1</td>\n",
       "      <td>3</td>\n",
       "      <td>Smooth</td>\n",
       "      <td>Short</td>\n",
       "      <td>5</td>\n",
       "      <td>5</td>\n",
       "      <td>3</td>\n",
       "      <td>5</td>\n",
       "      <td>4</td>\n",
       "      <td>3</td>\n",
       "      <td>1</td>\n",
       "      <td>3</td>\n",
       "    </tr>\n",
       "    <tr>\n",
       "      <th>2</th>\n",
       "      <td>German Shepherd Dogs</td>\n",
       "      <td>5</td>\n",
       "      <td>5</td>\n",
       "      <td>3</td>\n",
       "      <td>4</td>\n",
       "      <td>2</td>\n",
       "      <td>2</td>\n",
       "      <td>Double</td>\n",
       "      <td>Medium</td>\n",
       "      <td>3</td>\n",
       "      <td>4</td>\n",
       "      <td>5</td>\n",
       "      <td>5</td>\n",
       "      <td>5</td>\n",
       "      <td>5</td>\n",
       "      <td>3</td>\n",
       "      <td>5</td>\n",
       "    </tr>\n",
       "    <tr>\n",
       "      <th>3</th>\n",
       "      <td>Retrievers (Golden)</td>\n",
       "      <td>5</td>\n",
       "      <td>5</td>\n",
       "      <td>5</td>\n",
       "      <td>4</td>\n",
       "      <td>2</td>\n",
       "      <td>2</td>\n",
       "      <td>Double</td>\n",
       "      <td>Medium</td>\n",
       "      <td>5</td>\n",
       "      <td>4</td>\n",
       "      <td>3</td>\n",
       "      <td>5</td>\n",
       "      <td>5</td>\n",
       "      <td>3</td>\n",
       "      <td>1</td>\n",
       "      <td>4</td>\n",
       "    </tr>\n",
       "    <tr>\n",
       "      <th>4</th>\n",
       "      <td>Bulldogs</td>\n",
       "      <td>4</td>\n",
       "      <td>3</td>\n",
       "      <td>3</td>\n",
       "      <td>3</td>\n",
       "      <td>3</td>\n",
       "      <td>3</td>\n",
       "      <td>Smooth</td>\n",
       "      <td>Short</td>\n",
       "      <td>4</td>\n",
       "      <td>4</td>\n",
       "      <td>3</td>\n",
       "      <td>3</td>\n",
       "      <td>4</td>\n",
       "      <td>3</td>\n",
       "      <td>2</td>\n",
       "      <td>3</td>\n",
       "    </tr>\n",
       "  </tbody>\n",
       "</table>\n",
       "</div>"
      ],
      "text/plain": [
       "                   Breed  Affectionate With Family  Good With Young Children  \\\n",
       "0  Retrievers (Labrador)                         5                         5   \n",
       "1        French Bulldogs                         5                         5   \n",
       "2   German Shepherd Dogs                         5                         5   \n",
       "3    Retrievers (Golden)                         5                         5   \n",
       "4               Bulldogs                         4                         3   \n",
       "\n",
       "   Good With Other Dogs  Shedding Level  Coat Grooming Frequency  \\\n",
       "0                     5               4                        2   \n",
       "1                     4               3                        1   \n",
       "2                     3               4                        2   \n",
       "3                     5               4                        2   \n",
       "4                     3               3                        3   \n",
       "\n",
       "   Drooling Level Coat Type Coat Length  Openness To Strangers  \\\n",
       "0               2    Double       Short                      5   \n",
       "1               3    Smooth       Short                      5   \n",
       "2               2    Double      Medium                      3   \n",
       "3               2    Double      Medium                      5   \n",
       "4               3    Smooth       Short                      4   \n",
       "\n",
       "   Playfulness Level  Watchdog/Protective Nature  Adaptability Level  \\\n",
       "0                  5                           3                   5   \n",
       "1                  5                           3                   5   \n",
       "2                  4                           5                   5   \n",
       "3                  4                           3                   5   \n",
       "4                  4                           3                   3   \n",
       "\n",
       "   Trainability Level  Energy Level  Barking Level  Mental Stimulation Needs  \n",
       "0                   5             5              3                         4  \n",
       "1                   4             3              1                         3  \n",
       "2                   5             5              3                         5  \n",
       "3                   5             3              1                         4  \n",
       "4                   4             3              2                         3  "
      ]
     },
     "execution_count": 3,
     "metadata": {},
     "output_type": "execute_result"
    }
   ],
   "source": [
    "df.head()"
   ]
  },
  {
   "cell_type": "markdown",
   "id": "21165b1d",
   "metadata": {},
   "source": [
    "- How many breeds have an energy level of 5? `35`\n"
   ]
  },
  {
   "cell_type": "code",
   "execution_count": 84,
   "id": "265f256d",
   "metadata": {},
   "outputs": [
    {
     "data": {
      "text/plain": [
       "35"
      ]
     },
     "execution_count": 84,
     "metadata": {},
     "output_type": "execute_result"
    }
   ],
   "source": [
    "(df['Energy Level'] == 5).sum()"
   ]
  },
  {
   "cell_type": "markdown",
   "id": "3798adef",
   "metadata": {},
   "source": [
    "- How many different coat types are there? `10`\n"
   ]
  },
  {
   "cell_type": "code",
   "execution_count": 6,
   "id": "a6f51405",
   "metadata": {},
   "outputs": [
    {
     "data": {
      "text/plain": [
       "10"
      ]
     },
     "execution_count": 6,
     "metadata": {},
     "output_type": "execute_result"
    }
   ],
   "source": [
    "df['Coat Type'].nunique()"
   ]
  },
  {
   "cell_type": "markdown",
   "id": "fcc6e285",
   "metadata": {},
   "source": [
    "- What is the average drooling level of breeds with a long coat length? `1.483`\n"
   ]
  },
  {
   "cell_type": "code",
   "execution_count": 8,
   "id": "1dbe7314",
   "metadata": {},
   "outputs": [
    {
     "data": {
      "text/plain": [
       "1.4827586206896552"
      ]
     },
     "execution_count": 8,
     "metadata": {},
     "output_type": "execute_result"
    }
   ],
   "source": [
    "df[df['Coat Length'] == 'Long']['Drooling Level'].mean()"
   ]
  },
  {
   "cell_type": "markdown",
   "id": "6e4873ef",
   "metadata": {},
   "source": [
    "- What is the barking level of Anatolian Shepherd Dogs? `3`\n"
   ]
  },
  {
   "cell_type": "code",
   "execution_count": 38,
   "id": "23052993",
   "metadata": {},
   "outputs": [
    {
     "data": {
      "text/html": [
       "<div>\n",
       "<style scoped>\n",
       "    .dataframe tbody tr th:only-of-type {\n",
       "        vertical-align: middle;\n",
       "    }\n",
       "\n",
       "    .dataframe tbody tr th {\n",
       "        vertical-align: top;\n",
       "    }\n",
       "\n",
       "    .dataframe thead th {\n",
       "        text-align: right;\n",
       "    }\n",
       "</style>\n",
       "<table border=\"1\" class=\"dataframe\">\n",
       "  <thead>\n",
       "    <tr style=\"text-align: right;\">\n",
       "      <th></th>\n",
       "      <th>Breed</th>\n",
       "      <th>Affectionate With Family</th>\n",
       "      <th>Good With Young Children</th>\n",
       "      <th>Good With Other Dogs</th>\n",
       "      <th>Shedding Level</th>\n",
       "      <th>Coat Grooming Frequency</th>\n",
       "      <th>Drooling Level</th>\n",
       "      <th>Coat Type</th>\n",
       "      <th>Coat Length</th>\n",
       "      <th>Openness To Strangers</th>\n",
       "      <th>Playfulness Level</th>\n",
       "      <th>Watchdog/Protective Nature</th>\n",
       "      <th>Adaptability Level</th>\n",
       "      <th>Trainability Level</th>\n",
       "      <th>Energy Level</th>\n",
       "      <th>Barking Level</th>\n",
       "      <th>Mental Stimulation Needs</th>\n",
       "    </tr>\n",
       "  </thead>\n",
       "  <tbody>\n",
       "    <tr>\n",
       "      <th>162</th>\n",
       "      <td>Affenpinschers</td>\n",
       "      <td>3</td>\n",
       "      <td>3</td>\n",
       "      <td>3</td>\n",
       "      <td>3</td>\n",
       "      <td>3</td>\n",
       "      <td>1</td>\n",
       "      <td>Wiry</td>\n",
       "      <td>Short</td>\n",
       "      <td>5</td>\n",
       "      <td>3</td>\n",
       "      <td>3</td>\n",
       "      <td>4</td>\n",
       "      <td>3</td>\n",
       "      <td>3</td>\n",
       "      <td>3</td>\n",
       "      <td>3</td>\n",
       "    </tr>\n",
       "    <tr>\n",
       "      <th>121</th>\n",
       "      <td>Afghan Hounds</td>\n",
       "      <td>3</td>\n",
       "      <td>3</td>\n",
       "      <td>3</td>\n",
       "      <td>1</td>\n",
       "      <td>4</td>\n",
       "      <td>1</td>\n",
       "      <td>Silky</td>\n",
       "      <td>Long</td>\n",
       "      <td>3</td>\n",
       "      <td>3</td>\n",
       "      <td>3</td>\n",
       "      <td>3</td>\n",
       "      <td>1</td>\n",
       "      <td>4</td>\n",
       "      <td>3</td>\n",
       "      <td>3</td>\n",
       "    </tr>\n",
       "    <tr>\n",
       "      <th>61</th>\n",
       "      <td>Airedale Terriers</td>\n",
       "      <td>3</td>\n",
       "      <td>3</td>\n",
       "      <td>3</td>\n",
       "      <td>1</td>\n",
       "      <td>3</td>\n",
       "      <td>1</td>\n",
       "      <td>Wiry</td>\n",
       "      <td>Short</td>\n",
       "      <td>3</td>\n",
       "      <td>3</td>\n",
       "      <td>5</td>\n",
       "      <td>3</td>\n",
       "      <td>3</td>\n",
       "      <td>3</td>\n",
       "      <td>3</td>\n",
       "      <td>3</td>\n",
       "    </tr>\n",
       "    <tr>\n",
       "      <th>47</th>\n",
       "      <td>Akitas</td>\n",
       "      <td>3</td>\n",
       "      <td>3</td>\n",
       "      <td>1</td>\n",
       "      <td>3</td>\n",
       "      <td>3</td>\n",
       "      <td>1</td>\n",
       "      <td>Double</td>\n",
       "      <td>Medium</td>\n",
       "      <td>2</td>\n",
       "      <td>3</td>\n",
       "      <td>5</td>\n",
       "      <td>3</td>\n",
       "      <td>3</td>\n",
       "      <td>4</td>\n",
       "      <td>2</td>\n",
       "      <td>3</td>\n",
       "    </tr>\n",
       "    <tr>\n",
       "      <th>64</th>\n",
       "      <td>Alaskan Malamutes</td>\n",
       "      <td>3</td>\n",
       "      <td>3</td>\n",
       "      <td>3</td>\n",
       "      <td>3</td>\n",
       "      <td>3</td>\n",
       "      <td>1</td>\n",
       "      <td>Double</td>\n",
       "      <td>Medium</td>\n",
       "      <td>3</td>\n",
       "      <td>3</td>\n",
       "      <td>4</td>\n",
       "      <td>3</td>\n",
       "      <td>5</td>\n",
       "      <td>4</td>\n",
       "      <td>3</td>\n",
       "      <td>3</td>\n",
       "    </tr>\n",
       "    <tr>\n",
       "      <th>184</th>\n",
       "      <td>American English Coonhounds</td>\n",
       "      <td>3</td>\n",
       "      <td>3</td>\n",
       "      <td>5</td>\n",
       "      <td>2</td>\n",
       "      <td>1</td>\n",
       "      <td>1</td>\n",
       "      <td>Smooth</td>\n",
       "      <td>Short</td>\n",
       "      <td>3</td>\n",
       "      <td>3</td>\n",
       "      <td>3</td>\n",
       "      <td>3</td>\n",
       "      <td>3</td>\n",
       "      <td>4</td>\n",
       "      <td>4</td>\n",
       "      <td>3</td>\n",
       "    </tr>\n",
       "    <tr>\n",
       "      <th>118</th>\n",
       "      <td>American Eskimo Dogs</td>\n",
       "      <td>5</td>\n",
       "      <td>5</td>\n",
       "      <td>3</td>\n",
       "      <td>3</td>\n",
       "      <td>3</td>\n",
       "      <td>1</td>\n",
       "      <td>Double</td>\n",
       "      <td>Medium</td>\n",
       "      <td>5</td>\n",
       "      <td>3</td>\n",
       "      <td>3</td>\n",
       "      <td>4</td>\n",
       "      <td>4</td>\n",
       "      <td>4</td>\n",
       "      <td>3</td>\n",
       "      <td>3</td>\n",
       "    </tr>\n",
       "    <tr>\n",
       "      <th>191</th>\n",
       "      <td>American Foxhounds</td>\n",
       "      <td>3</td>\n",
       "      <td>5</td>\n",
       "      <td>5</td>\n",
       "      <td>3</td>\n",
       "      <td>1</td>\n",
       "      <td>1</td>\n",
       "      <td>Smooth</td>\n",
       "      <td>Short</td>\n",
       "      <td>3</td>\n",
       "      <td>3</td>\n",
       "      <td>3</td>\n",
       "      <td>3</td>\n",
       "      <td>3</td>\n",
       "      <td>4</td>\n",
       "      <td>5</td>\n",
       "      <td>3</td>\n",
       "    </tr>\n",
       "    <tr>\n",
       "      <th>128</th>\n",
       "      <td>American Hairless Terriers</td>\n",
       "      <td>5</td>\n",
       "      <td>5</td>\n",
       "      <td>3</td>\n",
       "      <td>1</td>\n",
       "      <td>1</td>\n",
       "      <td>1</td>\n",
       "      <td>Hairless</td>\n",
       "      <td>Short</td>\n",
       "      <td>3</td>\n",
       "      <td>3</td>\n",
       "      <td>3</td>\n",
       "      <td>5</td>\n",
       "      <td>5</td>\n",
       "      <td>3</td>\n",
       "      <td>3</td>\n",
       "      <td>3</td>\n",
       "    </tr>\n",
       "    <tr>\n",
       "      <th>81</th>\n",
       "      <td>American Staffordshire Terriers</td>\n",
       "      <td>5</td>\n",
       "      <td>3</td>\n",
       "      <td>3</td>\n",
       "      <td>2</td>\n",
       "      <td>1</td>\n",
       "      <td>1</td>\n",
       "      <td>Smooth</td>\n",
       "      <td>Short</td>\n",
       "      <td>4</td>\n",
       "      <td>3</td>\n",
       "      <td>5</td>\n",
       "      <td>3</td>\n",
       "      <td>3</td>\n",
       "      <td>3</td>\n",
       "      <td>3</td>\n",
       "      <td>3</td>\n",
       "    </tr>\n",
       "    <tr>\n",
       "      <th>84</th>\n",
       "      <td>Anatolian Shepherd Dogs</td>\n",
       "      <td>1</td>\n",
       "      <td>3</td>\n",
       "      <td>3</td>\n",
       "      <td>3</td>\n",
       "      <td>2</td>\n",
       "      <td>1</td>\n",
       "      <td>Smooth</td>\n",
       "      <td>Short</td>\n",
       "      <td>1</td>\n",
       "      <td>3</td>\n",
       "      <td>5</td>\n",
       "      <td>3</td>\n",
       "      <td>2</td>\n",
       "      <td>3</td>\n",
       "      <td>3</td>\n",
       "      <td>3</td>\n",
       "    </tr>\n",
       "  </tbody>\n",
       "</table>\n",
       "</div>"
      ],
      "text/plain": [
       "                               Breed  Affectionate With Family  \\\n",
       "162                   Affenpinschers                         3   \n",
       "121                    Afghan Hounds                         3   \n",
       "61                 Airedale Terriers                         3   \n",
       "47                            Akitas                         3   \n",
       "64                 Alaskan Malamutes                         3   \n",
       "184      American English Coonhounds                         3   \n",
       "118             American Eskimo Dogs                         5   \n",
       "191               American Foxhounds                         3   \n",
       "128       American Hairless Terriers                         5   \n",
       "81   American Staffordshire Terriers                         5   \n",
       "84           Anatolian Shepherd Dogs                         1   \n",
       "\n",
       "     Good With Young Children  Good With Other Dogs  Shedding Level  \\\n",
       "162                         3                     3               3   \n",
       "121                         3                     3               1   \n",
       "61                          3                     3               1   \n",
       "47                          3                     1               3   \n",
       "64                          3                     3               3   \n",
       "184                         3                     5               2   \n",
       "118                         5                     3               3   \n",
       "191                         5                     5               3   \n",
       "128                         5                     3               1   \n",
       "81                          3                     3               2   \n",
       "84                          3                     3               3   \n",
       "\n",
       "     Coat Grooming Frequency  Drooling Level Coat Type Coat Length  \\\n",
       "162                        3               1      Wiry       Short   \n",
       "121                        4               1     Silky        Long   \n",
       "61                         3               1      Wiry       Short   \n",
       "47                         3               1    Double      Medium   \n",
       "64                         3               1    Double      Medium   \n",
       "184                        1               1    Smooth       Short   \n",
       "118                        3               1    Double      Medium   \n",
       "191                        1               1    Smooth       Short   \n",
       "128                        1               1  Hairless       Short   \n",
       "81                         1               1    Smooth       Short   \n",
       "84                         2               1    Smooth       Short   \n",
       "\n",
       "     Openness To Strangers  Playfulness Level  Watchdog/Protective Nature  \\\n",
       "162                      5                  3                           3   \n",
       "121                      3                  3                           3   \n",
       "61                       3                  3                           5   \n",
       "47                       2                  3                           5   \n",
       "64                       3                  3                           4   \n",
       "184                      3                  3                           3   \n",
       "118                      5                  3                           3   \n",
       "191                      3                  3                           3   \n",
       "128                      3                  3                           3   \n",
       "81                       4                  3                           5   \n",
       "84                       1                  3                           5   \n",
       "\n",
       "     Adaptability Level  Trainability Level  Energy Level  Barking Level  \\\n",
       "162                   4                   3             3              3   \n",
       "121                   3                   1             4              3   \n",
       "61                    3                   3             3              3   \n",
       "47                    3                   3             4              2   \n",
       "64                    3                   5             4              3   \n",
       "184                   3                   3             4              4   \n",
       "118                   4                   4             4              3   \n",
       "191                   3                   3             4              5   \n",
       "128                   5                   5             3              3   \n",
       "81                    3                   3             3              3   \n",
       "84                    3                   2             3              3   \n",
       "\n",
       "     Mental Stimulation Needs  \n",
       "162                         3  \n",
       "121                         3  \n",
       "61                          3  \n",
       "47                          3  \n",
       "64                          3  \n",
       "184                         3  \n",
       "118                         3  \n",
       "191                         3  \n",
       "128                         3  \n",
       "81                          3  \n",
       "84                          3  "
      ]
     },
     "execution_count": 38,
     "metadata": {},
     "output_type": "execute_result"
    }
   ],
   "source": [
    "df.sort_values(by='Breed').head(11)"
   ]
  },
  {
   "cell_type": "code",
   "execution_count": 43,
   "id": "22ce34a3",
   "metadata": {},
   "outputs": [
    {
     "data": {
      "text/plain": [
       "0"
      ]
     },
     "execution_count": 43,
     "metadata": {},
     "output_type": "execute_result"
    }
   ],
   "source": [
    "(df['Breed'] == 'Anatolian Shepherd Dogs').sum()"
   ]
  },
  {
   "cell_type": "code",
   "execution_count": 44,
   "id": "f2867734",
   "metadata": {},
   "outputs": [
    {
     "data": {
      "text/html": [
       "<div>\n",
       "<style scoped>\n",
       "    .dataframe tbody tr th:only-of-type {\n",
       "        vertical-align: middle;\n",
       "    }\n",
       "\n",
       "    .dataframe tbody tr th {\n",
       "        vertical-align: top;\n",
       "    }\n",
       "\n",
       "    .dataframe thead th {\n",
       "        text-align: right;\n",
       "    }\n",
       "</style>\n",
       "<table border=\"1\" class=\"dataframe\">\n",
       "  <thead>\n",
       "    <tr style=\"text-align: right;\">\n",
       "      <th></th>\n",
       "      <th>Breed</th>\n",
       "      <th>Affectionate With Family</th>\n",
       "      <th>Good With Young Children</th>\n",
       "      <th>Good With Other Dogs</th>\n",
       "      <th>Shedding Level</th>\n",
       "      <th>Coat Grooming Frequency</th>\n",
       "      <th>Drooling Level</th>\n",
       "      <th>Coat Type</th>\n",
       "      <th>Coat Length</th>\n",
       "      <th>Openness To Strangers</th>\n",
       "      <th>Playfulness Level</th>\n",
       "      <th>Watchdog/Protective Nature</th>\n",
       "      <th>Adaptability Level</th>\n",
       "      <th>Trainability Level</th>\n",
       "      <th>Energy Level</th>\n",
       "      <th>Barking Level</th>\n",
       "      <th>Mental Stimulation Needs</th>\n",
       "    </tr>\n",
       "  </thead>\n",
       "  <tbody>\n",
       "  </tbody>\n",
       "</table>\n",
       "</div>"
      ],
      "text/plain": [
       "Empty DataFrame\n",
       "Columns: [Breed, Affectionate With Family, Good With Young Children, Good With Other Dogs, Shedding Level, Coat Grooming Frequency, Drooling Level, Coat Type, Coat Length, Openness To Strangers, Playfulness Level, Watchdog/Protective Nature, Adaptability Level, Trainability Level, Energy Level, Barking Level, Mental Stimulation Needs]\n",
       "Index: []"
      ]
     },
     "execution_count": 44,
     "metadata": {},
     "output_type": "execute_result"
    }
   ],
   "source": [
    "df[df['Breed'] == 'Anatolian Shepherd Dogs']"
   ]
  },
  {
   "cell_type": "code",
   "execution_count": 75,
   "id": "2771affa",
   "metadata": {},
   "outputs": [
    {
     "data": {
      "text/plain": [
       "3"
      ]
     },
     "execution_count": 75,
     "metadata": {},
     "output_type": "execute_result"
    }
   ],
   "source": [
    "df[df.Breed.str.startswith('Anatolian')]['Barking Level'].values[0]"
   ]
  },
  {
   "cell_type": "markdown",
   "id": "05e33a90",
   "metadata": {},
   "source": [
    "- How many breeds have a smooth coat type, a short coat length, and a playfulness level of 3? `27`\n"
   ]
  },
  {
   "cell_type": "code",
   "execution_count": 27,
   "id": "86eea05f",
   "metadata": {},
   "outputs": [
    {
     "data": {
      "text/plain": [
       "27"
      ]
     },
     "execution_count": 27,
     "metadata": {},
     "output_type": "execute_result"
    }
   ],
   "source": [
    "((df['Coat Type'] == 'Smooth') & (df['Coat Length'] == 'Short') & (df['Playfulness Level'] == 3)).sum()"
   ]
  },
  {
   "cell_type": "markdown",
   "id": "9f6a8e82",
   "metadata": {},
   "source": [
    "- What percentage of breeds fall into each value of adaptability level? Make a visualization like the one below showing this"
   ]
  },
  {
   "cell_type": "code",
   "execution_count": 68,
   "id": "26fa08aa",
   "metadata": {},
   "outputs": [
    {
     "data": {
      "text/html": [
       "<div>\n",
       "<style scoped>\n",
       "    .dataframe tbody tr th:only-of-type {\n",
       "        vertical-align: middle;\n",
       "    }\n",
       "\n",
       "    .dataframe tbody tr th {\n",
       "        vertical-align: top;\n",
       "    }\n",
       "\n",
       "    .dataframe thead th {\n",
       "        text-align: right;\n",
       "    }\n",
       "</style>\n",
       "<table border=\"1\" class=\"dataframe\">\n",
       "  <thead>\n",
       "    <tr style=\"text-align: right;\">\n",
       "      <th></th>\n",
       "      <th>Adaptability Level</th>\n",
       "      <th>Breed</th>\n",
       "    </tr>\n",
       "  </thead>\n",
       "  <tbody>\n",
       "    <tr>\n",
       "      <th>0</th>\n",
       "      <td>0</td>\n",
       "      <td>0.005128</td>\n",
       "    </tr>\n",
       "    <tr>\n",
       "      <th>1</th>\n",
       "      <td>3</td>\n",
       "      <td>0.312821</td>\n",
       "    </tr>\n",
       "    <tr>\n",
       "      <th>2</th>\n",
       "      <td>4</td>\n",
       "      <td>0.574359</td>\n",
       "    </tr>\n",
       "    <tr>\n",
       "      <th>3</th>\n",
       "      <td>5</td>\n",
       "      <td>0.107692</td>\n",
       "    </tr>\n",
       "  </tbody>\n",
       "</table>\n",
       "</div>"
      ],
      "text/plain": [
       "   Adaptability Level     Breed\n",
       "0                   0  0.005128\n",
       "1                   3  0.312821\n",
       "2                   4  0.574359\n",
       "3                   5  0.107692"
      ]
     },
     "execution_count": 68,
     "metadata": {},
     "output_type": "execute_result"
    }
   ],
   "source": [
    "n_breeds = df.Breed.nunique()\n",
    "al = pd.DataFrame(df.groupby('Adaptability Level').count().Breed.apply(lambda row: row / n_breeds))\n",
    "al = al.reset_index()\n",
    "al"
   ]
  },
  {
   "cell_type": "code",
   "execution_count": 82,
   "id": "4e263c0e",
   "metadata": {},
   "outputs": [
    {
     "data": {
      "image/png": "[encoded data removed]",
      "text/plain": [
       "<Figure size 432x288 with 1 Axes>"
      ]
     },
     "metadata": {
      "needs_background": "light"
     },
     "output_type": "display_data"
    }
   ],
   "source": [
    "sns.barplot(x='Adaptability Level', y='Breed', data=al)\n",
    "plt.show()"
   ]
  },
  {
   "cell_type": "code",
   "execution_count": null,
   "id": "8d38cb6a",
   "metadata": {},
   "outputs": [],
   "source": []
  }
 ],
 "metadata": {
  "kernelspec": {
   "display_name": "Python 3 (ipykernel)",
   "language": "python",
   "name": "python3"
  },
  "language_info": {
   "codemirror_mode": {
    "name": "ipython",
    "version": 3
   },
   "file_extension": ".py",
   "mimetype": "text/x-python",
   "name": "python",
   "nbconvert_exporter": "python",
   "pygments_lexer": "ipython3",
   "version": "3.9.7"
  }
 },
 "nbformat": 4,
 "nbformat_minor": 5
}
