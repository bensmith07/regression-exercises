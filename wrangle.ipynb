{
 "cells": [
  {
   "cell_type": "code",
   "execution_count": 1,
   "id": "466c0fc6",
   "metadata": {},
   "outputs": [],
   "source": [
    "import warnings\n",
    "import wrangle\n",
    "warnings.filterwarnings(\"ignore\")\n",
    "\n",
    "import pandas as pd\n",
    "import matplotlib.pyplot as plt\n",
    "import seaborn as sns\n",
    "import numpy as np\n",
    "import env"
   ]
  },
  {
   "cell_type": "code",
   "execution_count": 2,
   "id": "8d75e489",
   "metadata": {},
   "outputs": [
    {
     "name": "stdout",
     "output_type": "stream",
     "text": [
      "Reading from local CSV...\n"
     ]
    }
   ],
   "source": [
    "df = wrangle.get_zillow()"
   ]
  },
  {
   "cell_type": "code",
   "execution_count": 3,
   "id": "b7b15b3e",
   "metadata": {},
   "outputs": [
    {
     "name": "stdout",
     "output_type": "stream",
     "text": [
      "<class 'pandas.core.frame.DataFrame'>\n",
      "RangeIndex: 2148362 entries, 0 to 2148361\n",
      "Data columns (total 7 columns):\n",
      " #   Column                        Dtype  \n",
      "---  ------                        -----  \n",
      " 0   bedroomcnt                    float64\n",
      " 1   bathroomcnt                   float64\n",
      " 2   calculatedfinishedsquarefeet  float64\n",
      " 3   taxvaluedollarcnt             float64\n",
      " 4   yearbuilt                     float64\n",
      " 5   taxamount                     float64\n",
      " 6   fips                          float64\n",
      "dtypes: float64(7)\n",
      "memory usage: 114.7 MB\n"
     ]
    }
   ],
   "source": [
    "df.info()"
   ]
  },
  {
   "cell_type": "code",
   "execution_count": 4,
   "id": "ef68537d",
   "metadata": {},
   "outputs": [
    {
     "data": {
      "text/html": [
       "<div>\n",
       "<style scoped>\n",
       "    .dataframe tbody tr th:only-of-type {\n",
       "        vertical-align: middle;\n",
       "    }\n",
       "\n",
       "    .dataframe tbody tr th {\n",
       "        vertical-align: top;\n",
       "    }\n",
       "\n",
       "    .dataframe thead th {\n",
       "        text-align: right;\n",
       "    }\n",
       "</style>\n",
       "<table border=\"1\" class=\"dataframe\">\n",
       "  <thead>\n",
       "    <tr style=\"text-align: right;\">\n",
       "      <th></th>\n",
       "      <th>bedroomcnt</th>\n",
       "      <th>bathroomcnt</th>\n",
       "      <th>calculatedfinishedsquarefeet</th>\n",
       "      <th>taxvaluedollarcnt</th>\n",
       "      <th>yearbuilt</th>\n",
       "      <th>taxamount</th>\n",
       "      <th>fips</th>\n",
       "    </tr>\n",
       "  </thead>\n",
       "  <tbody>\n",
       "    <tr>\n",
       "      <th>count</th>\n",
       "      <td>2.148351e+06</td>\n",
       "      <td>2.148351e+06</td>\n",
       "      <td>2.138531e+06</td>\n",
       "      <td>2.147874e+06</td>\n",
       "      <td>2.137709e+06</td>\n",
       "      <td>2.143966e+06</td>\n",
       "      <td>2.148362e+06</td>\n",
       "    </tr>\n",
       "    <tr>\n",
       "      <th>mean</th>\n",
       "      <td>3.282737e+00</td>\n",
       "      <td>2.223521e+00</td>\n",
       "      <td>1.858390e+03</td>\n",
       "      <td>4.379277e+05</td>\n",
       "      <td>1.960799e+03</td>\n",
       "      <td>5.601987e+03</td>\n",
       "      <td>6.048359e+03</td>\n",
       "    </tr>\n",
       "    <tr>\n",
       "      <th>std</th>\n",
       "      <td>9.560015e-01</td>\n",
       "      <td>9.945559e-01</td>\n",
       "      <td>1.217274e+03</td>\n",
       "      <td>6.535662e+05</td>\n",
       "      <td>2.200335e+01</td>\n",
       "      <td>8.078412e+03</td>\n",
       "      <td>2.042209e+01</td>\n",
       "    </tr>\n",
       "    <tr>\n",
       "      <th>min</th>\n",
       "      <td>0.000000e+00</td>\n",
       "      <td>0.000000e+00</td>\n",
       "      <td>1.000000e+00</td>\n",
       "      <td>1.000000e+00</td>\n",
       "      <td>1.801000e+03</td>\n",
       "      <td>1.340000e+00</td>\n",
       "      <td>6.037000e+03</td>\n",
       "    </tr>\n",
       "    <tr>\n",
       "      <th>25%</th>\n",
       "      <td>3.000000e+00</td>\n",
       "      <td>2.000000e+00</td>\n",
       "      <td>1.256000e+03</td>\n",
       "      <td>1.793410e+05</td>\n",
       "      <td>1.949000e+03</td>\n",
       "      <td>2.526990e+03</td>\n",
       "      <td>6.037000e+03</td>\n",
       "    </tr>\n",
       "    <tr>\n",
       "      <th>50%</th>\n",
       "      <td>3.000000e+00</td>\n",
       "      <td>2.000000e+00</td>\n",
       "      <td>1.620000e+03</td>\n",
       "      <td>3.123750e+05</td>\n",
       "      <td>1.958000e+03</td>\n",
       "      <td>4.092080e+03</td>\n",
       "      <td>6.037000e+03</td>\n",
       "    </tr>\n",
       "    <tr>\n",
       "      <th>75%</th>\n",
       "      <td>4.000000e+00</td>\n",
       "      <td>3.000000e+00</td>\n",
       "      <td>2.202000e+03</td>\n",
       "      <td>5.074750e+05</td>\n",
       "      <td>1.975000e+03</td>\n",
       "      <td>6.380340e+03</td>\n",
       "      <td>6.059000e+03</td>\n",
       "    </tr>\n",
       "    <tr>\n",
       "      <th>max</th>\n",
       "      <td>1.800000e+01</td>\n",
       "      <td>2.000000e+01</td>\n",
       "      <td>9.525760e+05</td>\n",
       "      <td>9.693955e+07</td>\n",
       "      <td>2.015000e+03</td>\n",
       "      <td>1.337756e+06</td>\n",
       "      <td>6.111000e+03</td>\n",
       "    </tr>\n",
       "  </tbody>\n",
       "</table>\n",
       "</div>"
      ],
      "text/plain": [
       "         bedroomcnt   bathroomcnt  calculatedfinishedsquarefeet  \\\n",
       "count  2.148351e+06  2.148351e+06                  2.138531e+06   \n",
       "mean   3.282737e+00  2.223521e+00                  1.858390e+03   \n",
       "std    9.560015e-01  9.945559e-01                  1.217274e+03   \n",
       "min    0.000000e+00  0.000000e+00                  1.000000e+00   \n",
       "25%    3.000000e+00  2.000000e+00                  1.256000e+03   \n",
       "50%    3.000000e+00  2.000000e+00                  1.620000e+03   \n",
       "75%    4.000000e+00  3.000000e+00                  2.202000e+03   \n",
       "max    1.800000e+01  2.000000e+01                  9.525760e+05   \n",
       "\n",
       "       taxvaluedollarcnt     yearbuilt     taxamount          fips  \n",
       "count       2.147874e+06  2.137709e+06  2.143966e+06  2.148362e+06  \n",
       "mean        4.379277e+05  1.960799e+03  5.601987e+03  6.048359e+03  \n",
       "std         6.535662e+05  2.200335e+01  8.078412e+03  2.042209e+01  \n",
       "min         1.000000e+00  1.801000e+03  1.340000e+00  6.037000e+03  \n",
       "25%         1.793410e+05  1.949000e+03  2.526990e+03  6.037000e+03  \n",
       "50%         3.123750e+05  1.958000e+03  4.092080e+03  6.037000e+03  \n",
       "75%         5.074750e+05  1.975000e+03  6.380340e+03  6.059000e+03  \n",
       "max         9.693955e+07  2.015000e+03  1.337756e+06  6.111000e+03  "
      ]
     },
     "execution_count": 4,
     "metadata": {},
     "output_type": "execute_result"
    }
   ],
   "source": [
    "df.describe()"
   ]
  },
  {
   "cell_type": "code",
   "execution_count": 5,
   "id": "716438e6",
   "metadata": {},
   "outputs": [
    {
     "data": {
      "text/html": [
       "<div>\n",
       "<style scoped>\n",
       "    .dataframe tbody tr th:only-of-type {\n",
       "        vertical-align: middle;\n",
       "    }\n",
       "\n",
       "    .dataframe tbody tr th {\n",
       "        vertical-align: top;\n",
       "    }\n",
       "\n",
       "    .dataframe thead th {\n",
       "        text-align: right;\n",
       "    }\n",
       "</style>\n",
       "<table border=\"1\" class=\"dataframe\">\n",
       "  <thead>\n",
       "    <tr style=\"text-align: right;\">\n",
       "      <th></th>\n",
       "      <th>bedroomcnt</th>\n",
       "      <th>bathroomcnt</th>\n",
       "      <th>calculatedfinishedsquarefeet</th>\n",
       "      <th>taxvaluedollarcnt</th>\n",
       "      <th>yearbuilt</th>\n",
       "      <th>taxamount</th>\n",
       "      <th>fips</th>\n",
       "    </tr>\n",
       "  </thead>\n",
       "  <tbody>\n",
       "    <tr>\n",
       "      <th>0</th>\n",
       "      <td>4.0</td>\n",
       "      <td>3.0</td>\n",
       "      <td>2090.0</td>\n",
       "      <td>615000.0</td>\n",
       "      <td>1973.0</td>\n",
       "      <td>8625.75</td>\n",
       "      <td>6037.0</td>\n",
       "    </tr>\n",
       "    <tr>\n",
       "      <th>1</th>\n",
       "      <td>5.0</td>\n",
       "      <td>3.0</td>\n",
       "      <td>2479.0</td>\n",
       "      <td>531642.0</td>\n",
       "      <td>1973.0</td>\n",
       "      <td>6722.67</td>\n",
       "      <td>6037.0</td>\n",
       "    </tr>\n",
       "    <tr>\n",
       "      <th>2</th>\n",
       "      <td>4.0</td>\n",
       "      <td>2.0</td>\n",
       "      <td>2057.0</td>\n",
       "      <td>328148.0</td>\n",
       "      <td>1973.0</td>\n",
       "      <td>4160.63</td>\n",
       "      <td>6037.0</td>\n",
       "    </tr>\n",
       "    <tr>\n",
       "      <th>3</th>\n",
       "      <td>4.0</td>\n",
       "      <td>3.0</td>\n",
       "      <td>2423.0</td>\n",
       "      <td>297377.0</td>\n",
       "      <td>1978.0</td>\n",
       "      <td>3883.47</td>\n",
       "      <td>6037.0</td>\n",
       "    </tr>\n",
       "    <tr>\n",
       "      <th>4</th>\n",
       "      <td>4.0</td>\n",
       "      <td>3.0</td>\n",
       "      <td>2226.0</td>\n",
       "      <td>297001.0</td>\n",
       "      <td>1978.0</td>\n",
       "      <td>3884.27</td>\n",
       "      <td>6037.0</td>\n",
       "    </tr>\n",
       "  </tbody>\n",
       "</table>\n",
       "</div>"
      ],
      "text/plain": [
       "   bedroomcnt  bathroomcnt  calculatedfinishedsquarefeet  taxvaluedollarcnt  \\\n",
       "0         4.0          3.0                        2090.0           615000.0   \n",
       "1         5.0          3.0                        2479.0           531642.0   \n",
       "2         4.0          2.0                        2057.0           328148.0   \n",
       "3         4.0          3.0                        2423.0           297377.0   \n",
       "4         4.0          3.0                        2226.0           297001.0   \n",
       "\n",
       "   yearbuilt  taxamount    fips  \n",
       "0     1973.0    8625.75  6037.0  \n",
       "1     1973.0    6722.67  6037.0  \n",
       "2     1973.0    4160.63  6037.0  \n",
       "3     1978.0    3883.47  6037.0  \n",
       "4     1978.0    3884.27  6037.0  "
      ]
     },
     "execution_count": 5,
     "metadata": {},
     "output_type": "execute_result"
    }
   ],
   "source": [
    "df.head()"
   ]
  },
  {
   "cell_type": "code",
   "execution_count": 6,
   "id": "d0e42174",
   "metadata": {},
   "outputs": [
    {
     "data": {
      "text/plain": [
       "bedroomcnt                         11\n",
       "bathroomcnt                        11\n",
       "calculatedfinishedsquarefeet     9831\n",
       "taxvaluedollarcnt                 488\n",
       "yearbuilt                       10653\n",
       "taxamount                        4396\n",
       "fips                                0\n",
       "dtype: int64"
      ]
     },
     "execution_count": 6,
     "metadata": {},
     "output_type": "execute_result"
    }
   ],
   "source": [
    "df.isnull().sum()"
   ]
  },
  {
   "cell_type": "code",
   "execution_count": 7,
   "id": "a6a03b4d",
   "metadata": {},
   "outputs": [
    {
     "data": {
      "text/plain": [
       "2148362"
      ]
     },
     "execution_count": 7,
     "metadata": {},
     "output_type": "execute_result"
    }
   ],
   "source": [
    "len(df)"
   ]
  },
  {
   "cell_type": "code",
   "execution_count": 8,
   "id": "f505cdc1",
   "metadata": {},
   "outputs": [
    {
     "data": {
      "text/plain": [
       "0.011818306225859516"
      ]
     },
     "execution_count": 8,
     "metadata": {},
     "output_type": "execute_result"
    }
   ],
   "source": [
    "df.isnull().sum().sum() / len(df)"
   ]
  },
  {
   "cell_type": "markdown",
   "id": "e27c5d7c",
   "metadata": {},
   "source": [
    "#### Drop null values\n",
    "\n",
    "The sum of all null values in the dataframe is about 1% the number of observations in the dataset. So even if each null value is in a unique row, we can drop all of those rows and only drop 1% of over 2 million records. "
   ]
  },
  {
   "cell_type": "code",
   "execution_count": 9,
   "id": "ab56789c",
   "metadata": {},
   "outputs": [],
   "source": [
    "orig_len = len(df)"
   ]
  },
  {
   "cell_type": "code",
   "execution_count": 10,
   "id": "2bb61f26",
   "metadata": {},
   "outputs": [],
   "source": [
    "df = df.dropna()"
   ]
  },
  {
   "cell_type": "code",
   "execution_count": 11,
   "id": "3f2073d2",
   "metadata": {},
   "outputs": [
    {
     "data": {
      "text/plain": [
       "(2134359, 7)"
      ]
     },
     "execution_count": 11,
     "metadata": {},
     "output_type": "execute_result"
    }
   ],
   "source": [
    "df.shape"
   ]
  },
  {
   "cell_type": "code",
   "execution_count": 12,
   "id": "2c2cff69",
   "metadata": {},
   "outputs": [
    {
     "data": {
      "text/plain": [
       "14003"
      ]
     },
     "execution_count": 12,
     "metadata": {},
     "output_type": "execute_result"
    }
   ],
   "source": [
    "(orig_len - len(df))"
   ]
  },
  {
   "cell_type": "code",
   "execution_count": 13,
   "id": "d6f8d36e",
   "metadata": {},
   "outputs": [
    {
     "data": {
      "text/plain": [
       "0.006517989053986246"
      ]
     },
     "execution_count": 13,
     "metadata": {},
     "output_type": "execute_result"
    }
   ],
   "source": [
    "14003 / orig_len"
   ]
  },
  {
   "cell_type": "markdown",
   "id": "02c77f4f",
   "metadata": {},
   "source": [
    "By dropping nulls, we only lost .7% of the original observations. "
   ]
  },
  {
   "cell_type": "code",
   "execution_count": 14,
   "id": "f4b5598c",
   "metadata": {},
   "outputs": [],
   "source": [
    "def prep_zillow():\n",
    "    \n",
    "    # check for null values\n",
    "    total_nulls = df.isnull().sum().sum()\n",
    "    \n",
    "    # if the total number of nulls is less than 5% of the number of observations in the df\n",
    "    if total_nulls / len(df) < .05:\n",
    "        # drop all rows containing null values\n",
    "        df = df.dropna()\n",
    "    else:\n",
    "        print('Number of null values > 5% length of df. Evaluate further before dropping nulls.')\n",
    "    \n",
    "    return df"
   ]
  },
  {
   "cell_type": "code",
   "execution_count": null,
   "id": "208a34c5",
   "metadata": {},
   "outputs": [],
   "source": [
    "train_scaled, validate_scaled, test_scaled = scale_zillow()"
   ]
  }
 ],
 "metadata": {
  "kernelspec": {
   "display_name": "Python 3 (ipykernel)",
   "language": "python",
   "name": "python3"
  },
  "language_info": {
   "codemirror_mode": {
    "name": "ipython",
    "version": 3
   },
   "file_extension": ".py",
   "mimetype": "text/x-python",
   "name": "python",
   "nbconvert_exporter": "python",
   "pygments_lexer": "ipython3",
   "version": "3.9.7"
  }
 },
 "nbformat": 4,
 "nbformat_minor": 5
}
